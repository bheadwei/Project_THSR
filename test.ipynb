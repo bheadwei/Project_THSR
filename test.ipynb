{
 "cells": [
  {
   "cell_type": "code",
   "execution_count": 28,
   "id": "e1dfbba0",
   "metadata": {},
   "outputs": [],
   "source": [
    "from selenium import webdriver\n",
    "\n",
    "# 期待元素出現要透過什麼方式指定，通常與 EC、WebDriverWait 一起使用\n",
    "from selenium.webdriver.common.by import By\n",
    "\n",
    "# 加入行為鍊 ActionChain (在 WebDriver 中模擬滑鼠移動、點擊、拖曳、按右鍵出現選單，以及鍵盤輸入文字、按下鍵盤上的按鈕等)\n",
    "from selenium.webdriver.common.action_chains import ActionChains\n",
    "\n",
    "# 加入鍵盤功能 (例如 Ctrl、Alt 等)\n",
    "from selenium.webdriver.common.keys import Keys\n",
    "\n",
    "# 強制等待 (執行期間休息一下)\n",
    "from time import sleep\n",
    "import requests as req\n",
    "import os\n",
    "# 啟動瀏覽器工具的選項\n",
    "my_options = webdriver.ChromeOptions()\n",
    "# my_options.add_argument(\"--headless\")                #不開啟實體瀏覽器背景執行\n",
    "my_options.add_argument(\"--start-maximized\")         #最大化視窗\n",
    "my_options.add_argument(\"--incognito\")               #開啟無痕模式\n",
    "my_options.add_argument(\"--disable-popup-blocking\") #禁用彈出攔截\n",
    "my_options.add_argument(\"--disable-notifications\")  #取消通知"
   ]
  },
  {
   "cell_type": "code",
   "execution_count": null,
   "id": "015afe4a",
   "metadata": {},
   "outputs": [],
   "source": [
    "# 使用 Chrome 的 WebDriver\n",
    "driver = webdriver.Chrome(\n",
    "    options = my_options\n",
    ")\n",
    "\n",
    "\n",
    "def openWebsite():\n",
    "    driver.get('https://www.thsrc.com.tw/')\n",
    "\n",
    "def enter_orderWeb():\n",
    "    accpet_button = driver.find_element(By.CSS_SELECTOR, 'button.swal2-confirm.swal2-styled')\n",
    "    ac = ActionChains(driver)\n",
    "    ac.pause(1)\n",
    "    ac.move_to_element(accpet_button)\n",
    "    ac.click(accpet_button).perform()\n",
    "    ac.pause(1)\n",
    "    order_button = driver.find_element(By.CSS_SELECTOR,\"a#aIRS\")\n",
    "    ac.move_to_element(order_button)\n",
    "    ac.click(order_button).perform()\n",
    "    ac.pause(1)\n",
    "\n",
    "def orderWeb():\n",
    "    windows = driver.window_handles\n",
    "    driver.switch_to.window(windows[-1])\n",
    "    accpet_button = driver.find_element(By.CSS_SELECTOR, \"button#cookieAccpetBtn\")\n",
    "    ac = ActionChains(driver)\n",
    "    ac.pause(1)\n",
    "    ac.move_to_element(accpet_button).click(accpet_button).perform()\n",
    "    ac.pause(1)\n",
    "   \n",
    "    passnumberImg = driver.find_element(By.CSS_SELECTOR, \"img#BookingS1Form_homeCaptcha_passCode\")\n",
    "    imgSrc = passnumberImg.get_attribute('src')\n",
    " \n",
    "\n",
    "    sleep(3)\n",
    "    driver.quit()\n",
    "\n",
    "\n",
    "    \n"
   ]
  },
  {
   "cell_type": "code",
   "execution_count": null,
   "id": "a3c51c67",
   "metadata": {},
   "outputs": [],
   "source": [
    "\n",
    "openWebsite()\n",
    "enter_orderWeb()\n",
    "orderWeb()"
   ]
  },
  {
   "cell_type": "code",
   "execution_count": 17,
   "id": "c7d46d5f",
   "metadata": {},
   "outputs": [
    {
     "name": "stdout",
     "output_type": "stream",
     "text": [
      "欢迎使用ddddocr，本项目专注带动行业内卷，个人博客:wenanzhe.com\n",
      "训练数据支持来源于:http://146.56.204.113:19199/preview\n",
      "爬虫框架feapder可快速一键接入，快速开启爬虫之旅：https://github.com/Boris-code/feapder\n",
      "谷歌reCaptcha验证码 / hCaptcha验证码 / funCaptcha验证码商业级识别接口：https://yescaptcha.com/i/NSwk7i\n",
      "GvPH\n"
     ]
    }
   ],
   "source": [
    "import ddddocr\n",
    "\n",
    "ocr = ddddocr.DdddOcr()\n",
    "\n",
    "# 讀取圖片（二進位模式）\n",
    "with open(\"./img/test3.jpg\", \"rb\") as f:\n",
    "    image = f.read()\n",
    "\n",
    "# 執行 OCR 辨識\n",
    "result = ocr.classification(image)\n",
    "\n",
    "# 輸出結果\n",
    "print(result)\n"
   ]
  },
  {
   "cell_type": "code",
   "execution_count": null,
   "id": "2236c5f4",
   "metadata": {},
   "outputs": [
    {
     "name": "stdout",
     "output_type": "stream",
     "text": [
      "Note: you may need to restart the kernel to use updated packages.\n"
     ]
    },
    {
     "name": "stderr",
     "output_type": "stream",
     "text": [
      "WARNING: Package(s) not found: Python3\n"
     ]
    }
   ],
   "source": [
    "\n"
   ]
  }
 ],
 "metadata": {
  "kernelspec": {
   "display_name": "Python 3",
   "language": "python",
   "name": "python3"
  },
  "language_info": {
   "codemirror_mode": {
    "name": "ipython",
    "version": 3
   },
   "file_extension": ".py",
   "mimetype": "text/x-python",
   "name": "python",
   "nbconvert_exporter": "python",
   "pygments_lexer": "ipython3",
   "version": "3.12.10"
  }
 },
 "nbformat": 4,
 "nbformat_minor": 5
}
