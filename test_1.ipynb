{
 "cells": [
  {
   "cell_type": "code",
   "execution_count": 10,
   "id": "02c6c723",
   "metadata": {},
   "outputs": [],
   "source": [
    "from selenium import webdriver\n",
    "from selenium.webdriver.common.by import By\n",
    "from selenium.webdriver.common.action_chains import ActionChains\n",
    "from selenium.webdriver.common.keys import Keys\n",
    "from selenium.webdriver.support.ui import Select\n",
    "from time import sleep\n",
    "import random\n",
    "import ddddocr"
   ]
  },
  {
   "cell_type": "code",
   "execution_count": null,
   "id": "c2076472",
   "metadata": {},
   "outputs": [],
   "source": [
    "from selenium import webdriver\n",
    "\n",
    "my_options = webdriver.ChromeOptions()\n",
    "my_options.add_argument(\"--start-maximized\")\n",
    "my_options.add_argument(\"--incognito\")\n",
    "my_options.add_argument(\"--disable-popup-blocking\")\n",
    "my_options.add_argument(\"--disable-notifications\")\n",
    "my_options.add_argument(\"user-agent=Mozilla/5.0 (Windows NT 10.0; Win64; x64) AppleWebKit/537.36 (KHTML, like Gecko) Chrome/123.0.0.0 Safari/537.36\")\n",
    "\n",
    "# 避免 webdriver 特徵暴露\n",
    "my_options.add_experimental_option(\"excludeSwitches\", [\"enable-automation\"])\n",
    "my_options.add_experimental_option(\"useAutomationExtension\", False)\n",
    "\n",
    "# 加入這行：覆蓋 navigator.webdriver 變成 undefined\n",
    "my_options.add_argument(\"--disable-blink-features=AutomationControlled\")\n"
   ]
  },
  {
   "cell_type": "code",
   "execution_count": null,
   "id": "98961350",
   "metadata": {},
   "outputs": [],
   "source": [
    "# 使用 Chrome 的 WebDriver\n",
    "driver = webdriver.Chrome(\n",
    "    options = my_options\n",
    ")\n",
    "driver.execute_cdp_cmd(\"Network.setUserAgentOverride\", {\n",
    "    \"userAgent\": \"Mozilla/5.0 (Windows NT 10.0; Win64; x64) AppleWebKit/537.36 (KHTML, like Gecko) Chrome/123.0.0.0 Safari/537.36\"\n",
    "})\n"
   ]
  }
 ],
 "metadata": {
  "kernelspec": {
   "display_name": "Python 3",
   "language": "python",
   "name": "python3"
  },
  "language_info": {
   "name": "python",
   "version": "3.12.10"
  }
 },
 "nbformat": 4,
 "nbformat_minor": 5
}
